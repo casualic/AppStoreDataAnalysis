{
 "cells": [
  {
   "cell_type": "markdown",
   "metadata": {
    "collapsed": true
   },
   "source": [
    "# iOS and Android App store analysis\n",
    "\n",
    "In this project I will aim to analyze the applications in the App Store to isolate the characteristics of apps that tend to attract more visitor - from the Appstore characteristics themselves. \n",
    "\n",
    "We will use the data sets for the \n",
    "10 000 most popular apps from the Play as of august 2018\n",
    "\n",
    "and \n",
    "\n",
    "7 000 ios from the appstore\n"
   ]
  },
  {
   "cell_type": "markdown",
   "metadata": {},
   "source": [
    "First We will initialize the databases"
   ]
  },
  {
   "cell_type": "code",
   "execution_count": 1,
   "metadata": {
    "collapsed": false
   },
   "outputs": [],
   "source": [
    "from csv import reader\n",
    "\n",
    "# Apple Dataset\n",
    "\n",
    "opened_file_apple = open('AppleStore.csv')\n",
    "read_file = reader(opened_file_apple)\n",
    "apple = list(read_file)\n",
    "\n",
    "# Android Dataset\n",
    "opened_file_play = open('googleplaystore.csv')\n",
    "read_file = reader(opened_file_play)\n",
    "android = list(read_file)\n",
    "\n"
   ]
  },
  {
   "cell_type": "markdown",
   "metadata": {},
   "source": [
    "We will now define the `explore_data` function.\n"
   ]
  },
  {
   "cell_type": "code",
   "execution_count": 2,
   "metadata": {
    "collapsed": true
   },
   "outputs": [],
   "source": [
    "def explore_data(dataset, start, end, rows_and_columns=False):\n",
    "    dataset_slice = dataset[start:end]    \n",
    "    for row in dataset_slice:\n",
    "        print(row)\n",
    "        print('\\n') # adds a new (empty) line after each row\n",
    "\n",
    "    if rows_and_columns:\n",
    "        print('Number of rows:', len(dataset))\n",
    "        print('Number of columns:', len(dataset[0]))"
   ]
  },
  {
   "cell_type": "markdown",
   "metadata": {},
   "source": [
    "Here we will explore the database using the `explore_data()` function. The count for the size of the dataset includes the headers. \n",
    "\n",
    "This will gives us an idea, of what an entry in the databse looks like, for both the AppleStore and the Android Store. \n",
    "\n",
    "Above the analysis we also include the Headers.\n",
    "\n",
    "A full description of hte headers can be found here :\n",
    "Android - https://www.kaggle.com/lava18/google-play-store-apps\n",
    "iOS - https://www.kaggle.com/ramamet4/app-store-apple-data-set-10k-apps"
   ]
  },
  {
   "cell_type": "code",
   "execution_count": 3,
   "metadata": {
    "collapsed": false
   },
   "outputs": [
    {
     "name": "stdout",
     "output_type": "stream",
     "text": [
      "['id', 'track_name', 'size_bytes', 'currency', 'price', 'rating_count_tot', 'rating_count_ver', 'user_rating', 'user_rating_ver', 'ver', 'cont_rating', 'prime_genre', 'sup_devices.num', 'ipadSc_urls.num', 'lang.num', 'vpp_lic']\n",
      "\n",
      "\n",
      "['284882215', 'Facebook', '389879808', 'USD', '0.0', '2974676', '212', '3.5', '3.5', '95.0', '4+', 'Social Networking', '37', '1', '29', '1']\n",
      "\n",
      "\n",
      "['389801252', 'Instagram', '113954816', 'USD', '0.0', '2161558', '1289', '4.5', '4.0', '10.23', '12+', 'Photo & Video', '37', '0', '29', '1']\n",
      "\n",
      "\n",
      "['529479190', 'Clash of Clans', '116476928', 'USD', '0.0', '2130805', '579', '4.5', '4.5', '9.24.12', '9+', 'Games', '38', '5', '18', '1']\n",
      "\n",
      "\n",
      "['420009108', 'Temple Run', '65921024', 'USD', '0.0', '1724546', '3842', '4.5', '4.0', '1.6.2', '9+', 'Games', '40', '5', '1', '1']\n",
      "\n",
      "\n",
      "Number of rows: 7198\n",
      "Number of columns: 16\n",
      "============================\n",
      "['App', 'Category', 'Rating', 'Reviews', 'Size', 'Installs', 'Type', 'Price', 'Content Rating', 'Genres', 'Last Updated', 'Current Ver', 'Android Ver']\n",
      "\n",
      "\n",
      "['Coloring book moana', 'ART_AND_DESIGN', '3.9', '967', '14M', '500,000+', 'Free', '0', 'Everyone', 'Art & Design;Pretend Play', 'January 15, 2018', '2.0.0', '4.0.3 and up']\n",
      "\n",
      "\n",
      "['U Launcher Lite – FREE Live Cool Themes, Hide Apps', 'ART_AND_DESIGN', '4.7', '87510', '8.7M', '5,000,000+', 'Free', '0', 'Everyone', 'Art & Design', 'August 1, 2018', '1.2.4', '4.0.3 and up']\n",
      "\n",
      "\n",
      "['Sketch - Draw & Paint', 'ART_AND_DESIGN', '4.5', '215644', '25M', '50,000,000+', 'Free', '0', 'Teen', 'Art & Design', 'June 8, 2018', 'Varies with device', '4.2 and up']\n",
      "\n",
      "\n",
      "['Pixel Draw - Number Art Coloring Book', 'ART_AND_DESIGN', '4.3', '967', '2.8M', '100,000+', 'Free', '0', 'Everyone', 'Art & Design;Creativity', 'June 20, 2018', '1.1', '4.4 and up']\n",
      "\n",
      "\n",
      "Number of rows: 10842\n",
      "Number of columns: 13\n"
     ]
    }
   ],
   "source": [
    "# Apple Analysis - headers printed on top\n",
    "print(apple[0])\n",
    "print('\\n')\n",
    "\n",
    "explore_data(apple, 1, 5, True)\n",
    "\n",
    "print('============================')\n",
    "\n",
    "# Android Analysis - headers printed on top\n",
    "print(android[0])\n",
    "print('\\n')\n",
    "\n",
    "explore_data(android, 2, 6, True)"
   ]
  },
  {
   "cell_type": "markdown",
   "metadata": {},
   "source": [
    "As our target is to create an app that will attract the most users, we can isolate a few categories, that we can conjecture to be useful in such a design. \n",
    "\n",
    "From the Apple Store we will be looking more closely at  - \n",
    "\n",
    "| Header | Description |\n",
    "|----------|-------|\n",
    "|'track_name'  | App name|\n",
    "|'currency' |- In case we need to convert to USD|\n",
    "|'price'| price |\n",
    "|'rating_count_tot'| - Total amount of ratings|\n",
    "|'rating_count_ver'| - Amount ofratings in a prticular version|\n",
    "|'prime_genre'| - genre of App|\n",
    "\n",
    "Note: The Play store does gives the total amount of installs, but the Aple store only gives the total amount of ratings. \n",
    "\n",
    "For the Play Store we will be looking more closely at:\n",
    "\n",
    "| Header | Description |\n",
    "|----------|----------------|\n",
    "|'App' | app name|\n",
    "|Category| app category|\n",
    "|Reviews| number of reviews|\n",
    "|'Installs'| number of installations|\n",
    "|'Type',| genre of application |\n",
    "|'Price'| price |\n",
    "|'Genres'| Genre|\n",
    "\n"
   ]
  },
  {
   "cell_type": "markdown",
   "metadata": {},
   "source": [
    "The Data given has an errounous row, which shifts the data, and so we will remove the bad row. "
   ]
  },
  {
   "cell_type": "code",
   "execution_count": 4,
   "metadata": {
    "collapsed": false
   },
   "outputs": [
    {
     "name": "stdout",
     "output_type": "stream",
     "text": [
      "['Life Made WI-Fi Touchscreen Photo Frame', '1.9', '19', '3.0M', '1,000+', 'Free', '0', 'Everyone', '', 'February 11, 2018', '1.0.19', '4.0 and up']\n",
      "Length of the string is 12\n",
      "\n",
      "\n",
      "['osmino Wi-Fi: free WiFi', 'TOOLS', '4.2', '134203', '4.1M', '10,000,000+', 'Free', '0', 'Everyone', 'Tools', 'August 7, 2018', '6.06.14', '4.4 and up']\n",
      "Length of the new string after correction is 13\n"
     ]
    }
   ],
   "source": [
    "print(android[10473])\n",
    "short = len(android[10473])\n",
    "print('Length of the string is ' + str(short))\n",
    "\n",
    "print('\\n')\n",
    "# Now We delete\n",
    "\n",
    "del android[10473]\n",
    "print(android[10473])\n",
    "length = len(android[10473])\n",
    "\n",
    "print('Length of the new string after correction is ' + str(length))\n"
   ]
  },
  {
   "cell_type": "markdown",
   "metadata": {},
   "source": [
    "# Data Cleaning\n",
    "\n",
    "We will continue our data cleaning, since while observing the data I had noticed that there are duplicate rows for the same apps in the Play store.\n",
    "\n",
    "In order to isolate which apps are duplicates, we will create a ann accompanying list call  `duplicate_apps` which will store all the duplicates of an app store entry (based on the app name) , and we will seperate that list from the main database. \n",
    "\n",
    "Here for example we see that there are 2 seperate entries for facebook."
   ]
  },
  {
   "cell_type": "code",
   "execution_count": 5,
   "metadata": {
    "collapsed": false
   },
   "outputs": [
    {
     "name": "stdout",
     "output_type": "stream",
     "text": [
      "['Facebook', 'SOCIAL', '4.1', '78158306', 'Varies with device', '1,000,000,000+', 'Free', '0', 'Teen', 'Social', 'August 3, 2018', 'Varies with device', 'Varies with device']\n",
      "['Facebook', 'SOCIAL', '4.1', '78128208', 'Varies with device', '1,000,000,000+', 'Free', '0', 'Teen', 'Social', 'August 3, 2018', 'Varies with device', 'Varies with device']\n"
     ]
    }
   ],
   "source": [
    "for app in android:\n",
    "    name = app[0]\n",
    "    if name == 'Facebook':\n",
    "        print(app)"
   ]
  },
  {
   "cell_type": "markdown",
   "metadata": {},
   "source": [
    "First we will create the list of duplicates in the list 'duplicate_apps'\n"
   ]
  },
  {
   "cell_type": "code",
   "execution_count": 6,
   "metadata": {
    "collapsed": false
   },
   "outputs": [
    {
     "name": "stdout",
     "output_type": "stream",
     "text": [
      "Number of duplicated apps: 1181\n",
      "Examples of duplicated apps:  ['Quick PDF Scanner + OCR FREE', 'Box', 'Google My Business', 'ZOOM Cloud Meetings', 'join.me - Simple Meetings', 'Box', 'Zenefits', 'Google Ads', 'Google My Business', 'Slack']\n"
     ]
    }
   ],
   "source": [
    "duplicate_apps = []\n",
    "uniqe_apps = []\n",
    "\n",
    "for app in android:\n",
    "    name = app[0]\n",
    "    if name in uniqe_apps:\n",
    "        duplicate_apps.append(name)\n",
    "    else:\n",
    "        uniqe_apps.append(name)\n",
    "\n",
    "print('Number of duplicated apps:', len(duplicate_apps))\n",
    "print('Examples of duplicated apps: ', duplicate_apps[:10])"
   ]
  },
  {
   "cell_type": "markdown",
   "metadata": {},
   "source": [
    "We will now amend the data, and delete the duplicates from the data. The Duplicates will not be removed at random - we will use the the version with the most reviews, as that is most likely to be the newst version. Unfortunately, we cannot use the release version data as it isn't precise enough in the dataset, and we are not given an exact patch dates in the dataset either. (theese are likely minor fixes), which is why there have been multiple collections of the datapoints in the scrape."
   ]
  },
  {
   "cell_type": "code",
   "execution_count": 7,
   "metadata": {
    "collapsed": false
   },
   "outputs": [
    {
     "name": "stdout",
     "output_type": "stream",
     "text": [
      "Expected length:  9660\n"
     ]
    }
   ],
   "source": [
    "#Expected length of data after cleanup\n",
    "print('Expected length: ', len(android) - len(duplicate_apps))"
   ]
  },
  {
   "cell_type": "code",
   "execution_count": 8,
   "metadata": {
    "collapsed": false
   },
   "outputs": [
    {
     "name": "stdout",
     "output_type": "stream",
     "text": [
      "9659\n",
      "The most reviewed Facebook app has reviews : 78158306.0\n"
     ]
    }
   ],
   "source": [
    "reviews_max = {}\n",
    "\n",
    "for app in android[1:]:\n",
    "    name = app[0]\n",
    "    n_reviews = float(app[3])\n",
    "    if name in reviews_max and reviews_max[name] < n_reviews:\n",
    "        reviews_max[name] = n_reviews\n",
    "    elif name not in reviews_max:\n",
    "        reviews_max[name] = n_reviews\n",
    "        \n",
    "print(len(reviews_max))\n",
    "\n",
    "print('The most reviewed Facebook app has reviews : ' +\n",
    "      str(reviews_max['Facebook']))\n"
   ]
  },
  {
   "cell_type": "markdown",
   "metadata": {},
   "source": [
    "Now we will use the dictionary that we just created with unique PlayStore entries in order to create a cleaned up list . \n",
    "\n",
    "We will form 2 lists :\n",
    "` android_clean` for storing new cleaned data set. This cleaned dataset will remove all named duplicates, and keep the one with the highest number of ratings overall, as we use that as the proxy of the newest release. \n",
    "\n",
    "`already_added` which will just store app names, to track names already processed, in order to make the loop work.\n"
   ]
  },
  {
   "cell_type": "code",
   "execution_count": 9,
   "metadata": {
    "collapsed": false
   },
   "outputs": [
    {
     "data": {
      "text/plain": [
       "9659"
      ]
     },
     "execution_count": 9,
     "metadata": {},
     "output_type": "execute_result"
    }
   ],
   "source": [
    "android_clean = []\n",
    "already_added = []\n",
    "\n",
    "for app in android[1:]:\n",
    "    name = app[0]\n",
    "    n_reviews = float(app[3])\n",
    "    if n_reviews == reviews_max[name] and name not in already_added:\n",
    "        android_clean.append(app)\n",
    "        already_added.append(name)\n",
    "\n",
    "len(android_clean)\n",
    "\n",
    "    \n"
   ]
  },
  {
   "cell_type": "markdown",
   "metadata": {},
   "source": [
    "We have now created a cleaned up file for the android apps. \n",
    "\n",
    "\n",
    "*Note* : android_clean includes headers. \n"
   ]
  },
  {
   "cell_type": "markdown",
   "metadata": {},
   "source": [
    "# Removing non-english apps from data set\n",
    "\n",
    "We will now remove the apps which are not in english, since those are beyond the scope of our analysis, as we would be targeting the English-speaking market primarily. \n",
    "\n",
    "Our Current data set contains apps which are not titled in english, examples below:"
   ]
  },
  {
   "cell_type": "code",
   "execution_count": 10,
   "metadata": {
    "collapsed": false
   },
   "outputs": [
    {
     "name": "stdout",
     "output_type": "stream",
     "text": [
      "爱奇艺PPS -《欢乐颂2》电视剧热播\n",
      "【脱出ゲーム】絶対に最後までプレイしないで 〜謎解き＆ブロックパズル〜\n",
      "\n",
      "\n",
      "中国語 AQリスニング\n",
      "لعبة تقدر تربح DZ\n"
     ]
    }
   ],
   "source": [
    "print(apple[814][1])\n",
    "print(apple[6732][1])\n",
    "print('\\n')\n",
    "print(android_clean[4412][0])\n",
    "print(android_clean[7940][0])"
   ]
  },
  {
   "cell_type": "markdown",
   "metadata": {},
   "source": [
    "We will attept to isolate apps which have characters without english characters.\n",
    "\n",
    "We will do this such that, it will only count as non-english if more than 3 characters are beyond the desired ASCII range of 0 -127 for english characters. This is done in order to prevent exclusion of applications which have e.g Use of emoji, or special characters once in the name.\n",
    "\n",
    "This method isn't fool proof, as it can for example take an entire french woord, which uses no special characters and count it as 'english'. However it is a useful filter to reduce the scope of some of the data , to a more desirable dataset. \n"
   ]
  },
  {
   "cell_type": "code",
   "execution_count": 11,
   "metadata": {
    "collapsed": false
   },
   "outputs": [
    {
     "name": "stdout",
     "output_type": "stream",
     "text": [
      " Instachaat 😜 is an example where the test for any character provides a false positive because the name uses an Emoji in the name, and yet its in english\n",
      "False\n"
     ]
    },
    {
     "data": {
      "text/plain": [
       "True"
      ]
     },
     "execution_count": 11,
     "metadata": {},
     "output_type": "execute_result"
    }
   ],
   "source": [
    "def english(word):\n",
    "    for letter in word:  \n",
    "        if ord(letter) > 127:\n",
    "                return False\n",
    "    return True\n",
    "\n",
    "print(' Instachaat 😜 is an example where the test for any character provides a false positive because the name uses an Emoji in the name, and yet its in english')\n",
    "english('Instachat 😜')\n",
    "\n",
    "# New and Improved algorithm that checks for 3 letters.\n",
    "\n",
    "def english(word):\n",
    "    n = 0\n",
    "    for letter in word:\n",
    "        \n",
    "        \n",
    "        if ord(letter) > 127:\n",
    "            n += 1\n",
    "            \n",
    "    if n > 3:\n",
    "        return False\n",
    "    else:\n",
    "        return True\n",
    "\n",
    "english('lama剧剧😜😜剧剧')\n",
    "print(english('lama剧剧😜😜剧剧'))\n",
    "english('dupa')\n"
   ]
  },
  {
   "cell_type": "markdown",
   "metadata": {},
   "source": [
    "Now we we have an `english` function that will check if a word, is in English , based if we have more than 3 standard characters. \n",
    "\n"
   ]
  },
  {
   "cell_type": "code",
   "execution_count": 12,
   "metadata": {
    "collapsed": false
   },
   "outputs": [
    {
     "name": "stdout",
     "output_type": "stream",
     "text": [
      "['Photo Editor & Candy Camera & Grid & ScrapBook', 'ART_AND_DESIGN', '4.1', '159', '19M', '10,000+', 'Free', '0', 'Everyone', 'Art & Design', 'January 7, 2018', '1.0.0', '4.0.3 and up']\n",
      "\n",
      "\n",
      "['U Launcher Lite – FREE Live Cool Themes, Hide Apps', 'ART_AND_DESIGN', '4.7', '87510', '8.7M', '5,000,000+', 'Free', '0', 'Everyone', 'Art & Design', 'August 1, 2018', '1.2.4', '4.0.3 and up']\n",
      "\n",
      "\n",
      "['Sketch - Draw & Paint', 'ART_AND_DESIGN', '4.5', '215644', '25M', '50,000,000+', 'Free', '0', 'Teen', 'Art & Design', 'June 8, 2018', 'Varies with device', '4.2 and up']\n",
      "\n",
      "\n",
      "Number of rows: 9614\n",
      "Number of columns: 13\n",
      "\n",
      "\n",
      "['284882215', 'Facebook', '389879808', 'USD', '0.0', '2974676', '212', '3.5', '3.5', '95.0', '4+', 'Social Networking', '37', '1', '29', '1']\n",
      "\n",
      "\n",
      "['389801252', 'Instagram', '113954816', 'USD', '0.0', '2161558', '1289', '4.5', '4.0', '10.23', '12+', 'Photo & Video', '37', '0', '29', '1']\n",
      "\n",
      "\n",
      "['529479190', 'Clash of Clans', '116476928', 'USD', '0.0', '2130805', '579', '4.5', '4.5', '9.24.12', '9+', 'Games', '38', '5', '18', '1']\n",
      "\n",
      "\n",
      "Number of rows: 6183\n",
      "Number of columns: 16\n"
     ]
    }
   ],
   "source": [
    "android_english = []\n",
    "apple_english = []\n",
    "\n",
    "for app in android_clean:\n",
    "    name = app[0]\n",
    "    if english(name):\n",
    "        android_english.append(app)       \n",
    "\n",
    "# we now repeat the process for ios apps\n",
    "\n",
    "for app in apple[1:]:\n",
    "    name = app[1]\n",
    "    if english(name):\n",
    "        apple_english.append(app)\n",
    "              \n",
    "explore_data(android_english, 0, 3, True)\n",
    "print('\\n')\n",
    "explore_data(apple_english, 0, 3, True)\n",
    "     "
   ]
  },
  {
   "cell_type": "markdown",
   "metadata": {},
   "source": [
    "Now we will isolate the free apps from the respective stores, having already used the previous filters.\n",
    "\n",
    "For android, the price index is 7.\n",
    "\n",
    "For apple, the price index is 4.\n",
    "\n"
   ]
  },
  {
   "cell_type": "code",
   "execution_count": 13,
   "metadata": {
    "collapsed": false
   },
   "outputs": [
    {
     "name": "stdout",
     "output_type": "stream",
     "text": [
      "8864\n",
      "3222\n"
     ]
    }
   ],
   "source": [
    "android_free = []\n",
    "apple_free = []\n",
    "\n",
    "for app in android_english:\n",
    "    price = app[7]\n",
    "    if price == '0':\n",
    "        android_free.append(app)\n",
    "\n",
    "print(len(android_free))\n",
    "# We have 8864 free Android apps to work with\n",
    "        \n",
    "for app in apple_english:\n",
    "    price = float(app[4])\n",
    "    if price == 0:\n",
    "        apple_free.append(app)\n",
    "        \n",
    "len(apple_free)\n",
    "print(len(apple_free))\n",
    "# We have 3222 free Apple apps to work wtih. "
   ]
  },
  {
   "cell_type": "markdown",
   "metadata": {},
   "source": [
    "We now have 2 lists : *apple_free* (8864 free apps) and *android_free* (3222 free apps), which list all the free, english apps in respective stores. \n",
    "\n"
   ]
  },
  {
   "cell_type": "markdown",
   "metadata": {},
   "source": [
    "# Data Processing\n",
    "\n",
    "Since we have now managed to clean up and filter all the data that we need for our analysis, we can now move one to data processing. We will be analysing data from both the Play and App Store, since the goal of the project was to look for an app profile, that would work for both. \n",
    "\n",
    "Initally we would rollo out the application on the Play store and understand if it gains any success on that platform, rather than sepnding the time and resources without testing, to port the app to iOS. \n",
    "\n",
    "\n"
   ]
  },
  {
   "cell_type": "markdown",
   "metadata": {},
   "source": [
    "# Genre Analysis \n",
    "We Will firstly be looking at the Genres of apps, to see which genres are the most popular in the market. \n",
    "\n",
    "In order to do so we will  build a frequency table for the prime_genre column of the App Store data set, and for the Genres and Category columns of the Google Play data set.\n",
    "\n",
    "The functions below will create a Frequency dictionary (listed as % of total apps in app store), for any list.\n",
    "\n",
    "We will then sort the results, to make the results more readable."
   ]
  },
  {
   "cell_type": "code",
   "execution_count": 14,
   "metadata": {
    "collapsed": false
   },
   "outputs": [],
   "source": [
    "\n",
    "\n",
    "# apple genre index is 11 (or -5)\n",
    "\n",
    "def freq_table(dataset, index):\n",
    "    table = {}\n",
    "    total = 0\n",
    "    \n",
    "    for row in dataset:\n",
    "        total += 1\n",
    "        value = row[index]\n",
    "        if value in table:\n",
    "            table[value] += 1\n",
    "        else:\n",
    "            table[value] = 1\n",
    "# this part will convert the table frequencies into percentages\n",
    "    table_percentages = {}\n",
    "    for key in table:\n",
    "        percentage = (table[key] / total) * 100\n",
    "        table_percentages[key] = percentage\n",
    "    return table_percentages\n",
    "\n",
    "\n",
    "\n",
    "\n",
    "\n",
    "    "
   ]
  },
  {
   "cell_type": "markdown",
   "metadata": {},
   "source": [
    "We Will now use these functions to analyse The frequencies of Genres for apps in the Apple Store and the Play Store.\n",
    "\n",
    "We note that the genre columns for the respective stores are:\n",
    "\n",
    "For Apple : -5 (for *prime_genre*)\n",
    "\n",
    "For Android: 1 (for *Genres* and *Category*) "
   ]
  },
  {
   "cell_type": "code",
   "execution_count": 15,
   "metadata": {
    "collapsed": false
   },
   "outputs": [
    {
     "name": "stdout",
     "output_type": "stream",
     "text": [
      "Frequency Table for App Store\n",
      "\n",
      "\n",
      "{'Music': 2.0484171322160147, 'Lifestyle': 1.5828677839851024, 'Medical': 0.186219739292365, 'Utilities': 2.5139664804469275, 'Business': 0.5276225946617008, 'Book': 0.4345127250155183, 'Travel': 1.2414649286157666, 'Shopping': 2.60707635009311, 'Social Networking': 3.2898820608317814, 'Games': 58.16263190564867, 'Navigation': 0.186219739292365, 'Health & Fitness': 2.0173805090006205, 'Photo & Video': 4.9658597144630665, 'Education': 3.662321539416512, 'Finance': 1.1173184357541899, 'Catalogs': 0.12414649286157665, 'Weather': 0.8690254500310366, 'News': 1.3345747982619491, 'Productivity': 1.7380509000620732, 'Food & Drink': 0.8069522036002483, 'Entertainment': 7.883302296710118, 'Sports': 2.1415270018621975, 'Reference': 0.5586592178770949}\n",
      "\n",
      "\n",
      "{'SHOPPING': 2.2450361010830324, 'HEALTH_AND_FITNESS': 3.0798736462093865, 'PERSONALIZATION': 3.3167870036101084, 'FOOD_AND_DRINK': 1.2409747292418771, 'HOUSE_AND_HOME': 0.8235559566787004, 'DATING': 1.861462093862816, 'COMMUNICATION': 3.2378158844765346, 'COMICS': 0.6204873646209386, 'TRAVEL_AND_LOCAL': 2.33528880866426, 'PHOTOGRAPHY': 2.944494584837545, 'TOOLS': 8.461191335740072, 'VIDEO_PLAYERS': 1.7937725631768955, 'AUTO_AND_VEHICLES': 0.9250902527075812, 'BEAUTY': 0.5979241877256317, 'ENTERTAINMENT': 0.9589350180505415, 'SOCIAL': 2.6624548736462095, 'FINANCE': 3.7003610108303246, 'SPORTS': 3.395758122743682, 'BOOKS_AND_REFERENCE': 2.1435018050541514, 'BUSINESS': 4.591606498194946, 'LIBRARIES_AND_DEMO': 0.9363718411552346, 'NEWS_AND_MAGAZINES': 2.7978339350180503, 'ART_AND_DESIGN': 0.6430505415162455, 'LIFESTYLE': 3.9034296028880866, 'PRODUCTIVITY': 3.892148014440433, 'MAPS_AND_NAVIGATION': 1.3989169675090252, 'FAMILY': 18.907942238267147, 'WEATHER': 0.8009927797833934, 'GAME': 9.724729241877256, 'MEDICAL': 3.531137184115524, 'PARENTING': 0.6543321299638989, 'EVENTS': 0.7107400722021661, 'EDUCATION': 1.1620036101083033}\n"
     ]
    }
   ],
   "source": [
    "print('Frequency Table for App Store')\n",
    "print('\\n')\n",
    "print(freq_table(apple_free, -5))\n",
    "print('\\n')\n",
    "print(freq_table(android_free,1))\n"
   ]
  },
  {
   "cell_type": "markdown",
   "metadata": {},
   "source": [
    "As we can see now, the function returns the frequencies in no particaluar order, so we will implemente a sorting function (to sort by highest frequency to lowest) and some formatting, to make the data more readable. \n",
    "\n",
    "\n",
    "\n"
   ]
  },
  {
   "cell_type": "code",
   "execution_count": 16,
   "metadata": {
    "collapsed": true
   },
   "outputs": [],
   "source": [
    "# This function uses the freq table function, and sorts the output\n",
    "\n",
    "def display_table(dataset, index):\n",
    "    table = freq_table(dataset, index)\n",
    "    table_display = []\n",
    "    for key in table:\n",
    "        key_val_as_tuple = (table[key], key)\n",
    "        table_display.append(key_val_as_tuple)\n",
    "\n",
    "    table_sorted = sorted(table_display, reverse = True)\n",
    "    for entry in table_sorted:\n",
    "        print(entry[1], ':', entry[0])"
   ]
  },
  {
   "cell_type": "markdown",
   "metadata": {},
   "source": [
    "Now that we have a the functions that will obtain the frequency data and sort and organize it, we will apply them to the datasets\n"
   ]
  },
  {
   "cell_type": "code",
   "execution_count": null,
   "metadata": {
    "collapsed": true
   },
   "outputs": [],
   "source": []
  },
  {
   "cell_type": "code",
   "execution_count": 17,
   "metadata": {
    "collapsed": false
   },
   "outputs": [
    {
     "name": "stdout",
     "output_type": "stream",
     "text": [
      "Games : 58.16263190564867\n",
      "Entertainment : 7.883302296710118\n",
      "Photo & Video : 4.9658597144630665\n",
      "Education : 3.662321539416512\n",
      "Social Networking : 3.2898820608317814\n",
      "Shopping : 2.60707635009311\n",
      "Utilities : 2.5139664804469275\n",
      "Sports : 2.1415270018621975\n",
      "Music : 2.0484171322160147\n",
      "Health & Fitness : 2.0173805090006205\n",
      "Productivity : 1.7380509000620732\n",
      "Lifestyle : 1.5828677839851024\n",
      "News : 1.3345747982619491\n",
      "Travel : 1.2414649286157666\n",
      "Finance : 1.1173184357541899\n",
      "Weather : 0.8690254500310366\n",
      "Food & Drink : 0.8069522036002483\n",
      "Reference : 0.5586592178770949\n",
      "Business : 0.5276225946617008\n",
      "Book : 0.4345127250155183\n",
      "Navigation : 0.186219739292365\n",
      "Medical : 0.186219739292365\n",
      "Catalogs : 0.12414649286157665\n"
     ]
    }
   ],
   "source": [
    "display_table(apple_free, -5)"
   ]
  },
  {
   "cell_type": "markdown",
   "metadata": {},
   "source": [
    "From the frequency distribution we can see that the 5 most common genres in the app store are: Games, Entertainmeent, Photo & Video, Educations and  Social Networking. Games win out by a large margin of 55.16% compared to the runner up of 7.88% of Entertainmnent apps. The other also score in single digit percentages. \n",
    "\n",
    "The app store in general seesm to have much more applications aimed at 'Fun and Entertainmnet' Rather than other types of apps such as the 'Health' and 'Utility' Categories.\n",
    "\n",
    "That being said, this nly pertains to the number of apps in the app store, not neccesarily the popularity of total downloads. We can say that a lot of games are being published. We can't say from the data that Social Media apps are less popular - perhaps fewer apps are used (e.g People can play many games, but use Faceboook as their sole Social media application). The large frequeny of apps can indicate the competetiveness in the publisher space - as we can clearly see that many more games are released than health apps. "
   ]
  },
  {
   "cell_type": "markdown",
   "metadata": {},
   "source": [
    "Let's now Investigate the Play store apps by Category"
   ]
  },
  {
   "cell_type": "code",
   "execution_count": 18,
   "metadata": {
    "collapsed": false
   },
   "outputs": [
    {
     "name": "stdout",
     "output_type": "stream",
     "text": [
      "FAMILY : 18.907942238267147\n",
      "GAME : 9.724729241877256\n",
      "TOOLS : 8.461191335740072\n",
      "BUSINESS : 4.591606498194946\n",
      "LIFESTYLE : 3.9034296028880866\n",
      "PRODUCTIVITY : 3.892148014440433\n",
      "FINANCE : 3.7003610108303246\n",
      "MEDICAL : 3.531137184115524\n",
      "SPORTS : 3.395758122743682\n",
      "PERSONALIZATION : 3.3167870036101084\n",
      "COMMUNICATION : 3.2378158844765346\n",
      "HEALTH_AND_FITNESS : 3.0798736462093865\n",
      "PHOTOGRAPHY : 2.944494584837545\n",
      "NEWS_AND_MAGAZINES : 2.7978339350180503\n",
      "SOCIAL : 2.6624548736462095\n",
      "TRAVEL_AND_LOCAL : 2.33528880866426\n",
      "SHOPPING : 2.2450361010830324\n",
      "BOOKS_AND_REFERENCE : 2.1435018050541514\n",
      "DATING : 1.861462093862816\n",
      "VIDEO_PLAYERS : 1.7937725631768955\n",
      "MAPS_AND_NAVIGATION : 1.3989169675090252\n",
      "FOOD_AND_DRINK : 1.2409747292418771\n",
      "EDUCATION : 1.1620036101083033\n",
      "ENTERTAINMENT : 0.9589350180505415\n",
      "LIBRARIES_AND_DEMO : 0.9363718411552346\n",
      "AUTO_AND_VEHICLES : 0.9250902527075812\n",
      "HOUSE_AND_HOME : 0.8235559566787004\n",
      "WEATHER : 0.8009927797833934\n",
      "EVENTS : 0.7107400722021661\n",
      "PARENTING : 0.6543321299638989\n",
      "ART_AND_DESIGN : 0.6430505415162455\n",
      "COMICS : 0.6204873646209386\n",
      "BEAUTY : 0.5979241877256317\n"
     ]
    }
   ],
   "source": [
    "display_table(android_free, 1)"
   ]
  },
  {
   "cell_type": "markdown",
   "metadata": {},
   "source": [
    "From the *Category* section we can see that the most popular groupings are Family (18.9%), Games (9.72%), Tools (8.46), Business ( 4.59%) and Lifestyle(3.9%).\n",
    "\n",
    "In that respect, at least if we look at these categories, games have much less of a foothold in the Play Store than the App sore, at least in terms of number of released apps. \n",
    "\n",
    "That being said, Gmaes are still one of the top categories. Faimly h=category, see ms to be much igher. We see howver that business an tools are much closer to the top categories, which suggest a more utalitarian profile of the store. \n",
    "\n"
   ]
  },
  {
   "cell_type": "code",
   "execution_count": 19,
   "metadata": {
    "collapsed": false,
    "scrolled": false
   },
   "outputs": [
    {
     "name": "stdout",
     "output_type": "stream",
     "text": [
      "Tools : 8.449909747292418\n",
      "Entertainment : 6.069494584837545\n",
      "Education : 5.347472924187725\n",
      "Business : 4.591606498194946\n",
      "Productivity : 3.892148014440433\n",
      "Lifestyle : 3.892148014440433\n",
      "Finance : 3.7003610108303246\n",
      "Medical : 3.531137184115524\n",
      "Sports : 3.463447653429603\n",
      "Personalization : 3.3167870036101084\n",
      "Communication : 3.2378158844765346\n",
      "Action : 3.1024368231046933\n",
      "Health & Fitness : 3.0798736462093865\n",
      "Photography : 2.944494584837545\n",
      "News & Magazines : 2.7978339350180503\n",
      "Social : 2.6624548736462095\n",
      "Travel & Local : 2.3240072202166067\n",
      "Shopping : 2.2450361010830324\n",
      "Books & Reference : 2.1435018050541514\n",
      "Simulation : 2.0419675090252705\n",
      "Dating : 1.861462093862816\n",
      "Arcade : 1.8501805054151623\n",
      "Video Players & Editors : 1.7712093862815883\n",
      "Casual : 1.7599277978339352\n",
      "Maps & Navigation : 1.3989169675090252\n",
      "Food & Drink : 1.2409747292418771\n",
      "Puzzle : 1.128158844765343\n",
      "Racing : 0.9927797833935018\n",
      "Role Playing : 0.9363718411552346\n",
      "Libraries & Demo : 0.9363718411552346\n",
      "Auto & Vehicles : 0.9250902527075812\n",
      "Strategy : 0.9138086642599278\n",
      "House & Home : 0.8235559566787004\n",
      "Weather : 0.8009927797833934\n",
      "Events : 0.7107400722021661\n",
      "Adventure : 0.6768953068592057\n",
      "Comics : 0.6092057761732852\n",
      "Beauty : 0.5979241877256317\n",
      "Art & Design : 0.5979241877256317\n",
      "Parenting : 0.4963898916967509\n",
      "Card : 0.45126353790613716\n",
      "Casino : 0.42870036101083037\n",
      "Trivia : 0.41741877256317694\n",
      "Educational;Education : 0.39485559566787\n",
      "Board : 0.3835740072202166\n",
      "Educational : 0.3722924187725632\n",
      "Education;Education : 0.33844765342960287\n",
      "Word : 0.2594765342960289\n",
      "Casual;Pretend Play : 0.236913357400722\n",
      "Music : 0.2030685920577617\n",
      "Racing;Action & Adventure : 0.16922382671480143\n",
      "Puzzle;Brain Games : 0.16922382671480143\n",
      "Entertainment;Music & Video : 0.16922382671480143\n",
      "Casual;Brain Games : 0.13537906137184114\n",
      "Casual;Action & Adventure : 0.13537906137184114\n",
      "Arcade;Action & Adventure : 0.12409747292418773\n",
      "Action;Action & Adventure : 0.10153429602888085\n",
      "Educational;Pretend Play : 0.09025270758122744\n",
      "Simulation;Action & Adventure : 0.078971119133574\n",
      "Parenting;Education : 0.078971119133574\n",
      "Entertainment;Brain Games : 0.078971119133574\n",
      "Board;Brain Games : 0.078971119133574\n",
      "Parenting;Music & Video : 0.06768953068592057\n",
      "Educational;Brain Games : 0.06768953068592057\n",
      "Casual;Creativity : 0.06768953068592057\n",
      "Art & Design;Creativity : 0.06768953068592057\n",
      "Education;Pretend Play : 0.056407942238267145\n",
      "Role Playing;Pretend Play : 0.04512635379061372\n",
      "Education;Creativity : 0.04512635379061372\n",
      "Role Playing;Action & Adventure : 0.033844765342960284\n",
      "Puzzle;Action & Adventure : 0.033844765342960284\n",
      "Entertainment;Creativity : 0.033844765342960284\n",
      "Entertainment;Action & Adventure : 0.033844765342960284\n",
      "Educational;Creativity : 0.033844765342960284\n",
      "Educational;Action & Adventure : 0.033844765342960284\n",
      "Education;Music & Video : 0.033844765342960284\n",
      "Education;Brain Games : 0.033844765342960284\n",
      "Education;Action & Adventure : 0.033844765342960284\n",
      "Adventure;Action & Adventure : 0.033844765342960284\n",
      "Video Players & Editors;Music & Video : 0.02256317689530686\n",
      "Sports;Action & Adventure : 0.02256317689530686\n",
      "Simulation;Pretend Play : 0.02256317689530686\n",
      "Puzzle;Creativity : 0.02256317689530686\n",
      "Music;Music & Video : 0.02256317689530686\n",
      "Entertainment;Pretend Play : 0.02256317689530686\n",
      "Casual;Education : 0.02256317689530686\n",
      "Board;Action & Adventure : 0.02256317689530686\n",
      "Video Players & Editors;Creativity : 0.01128158844765343\n",
      "Trivia;Education : 0.01128158844765343\n",
      "Travel & Local;Action & Adventure : 0.01128158844765343\n",
      "Tools;Education : 0.01128158844765343\n",
      "Strategy;Education : 0.01128158844765343\n",
      "Strategy;Creativity : 0.01128158844765343\n",
      "Strategy;Action & Adventure : 0.01128158844765343\n",
      "Simulation;Education : 0.01128158844765343\n",
      "Role Playing;Brain Games : 0.01128158844765343\n",
      "Racing;Pretend Play : 0.01128158844765343\n",
      "Puzzle;Education : 0.01128158844765343\n",
      "Parenting;Brain Games : 0.01128158844765343\n",
      "Music & Audio;Music & Video : 0.01128158844765343\n",
      "Lifestyle;Pretend Play : 0.01128158844765343\n",
      "Lifestyle;Education : 0.01128158844765343\n",
      "Health & Fitness;Education : 0.01128158844765343\n",
      "Health & Fitness;Action & Adventure : 0.01128158844765343\n",
      "Entertainment;Education : 0.01128158844765343\n",
      "Communication;Creativity : 0.01128158844765343\n",
      "Comics;Creativity : 0.01128158844765343\n",
      "Casual;Music & Video : 0.01128158844765343\n",
      "Card;Action & Adventure : 0.01128158844765343\n",
      "Books & Reference;Education : 0.01128158844765343\n",
      "Art & Design;Pretend Play : 0.01128158844765343\n",
      "Art & Design;Action & Adventure : 0.01128158844765343\n",
      "Arcade;Pretend Play : 0.01128158844765343\n",
      "Adventure;Education : 0.01128158844765343\n"
     ]
    }
   ],
   "source": [
    "display_table(android_free, -4)"
   ]
  },
  {
   "cell_type": "markdown",
   "metadata": {},
   "source": [
    "Looking at the Play store again, we see more confirmation on the biew that the Play store applications might be more Utilatarian as a whole.\n",
    "\n",
    "The 5 most popular categories are: Tools (8.45%), Entertainment ( 6.06%), Education (5.35%), Busines ( 4.59%)\n",
    "Productivity ( 3.89%). \n",
    "\n",
    "We again see the entertainemnt category ( which could encompass games ) in the top, but also maginuted smaller, as compared to the app store. 3 of the top 5 categories, are more utalitarian (tools, businesss and producitivity). \n",
    "\n",
    "Again - the frequency analysis can gives us better clues about competition, and released apps , but since we dont compare to download numbers of reviews, we can't commment particularly on popularity. \n"
   ]
  },
  {
   "cell_type": "markdown",
   "metadata": {},
   "source": [
    "# Popularity analysis\n",
    "\n",
    "We have analysed the frequency of the apps published on the respecitve stores, to understand what genres are most popular on the apps store - which can be a proxy of demand, and could allow us to narrow down our search . Now we will turn our heads to understand the actual download of the apps. \n",
    "\n",
    "To do so, we will compute the Average number of downloads per app in the genre, to gather an expectation of how an individual app 'can do' in the market. \n",
    "\n"
   ]
  },
  {
   "cell_type": "markdown",
   "metadata": {},
   "source": [
    "For the play store we can measure this directly - by using the number of * Installs * from the data.\n",
    "\n",
    "For the apple stare, we do not have the install number, but we can take the number of reviewws as a proxy, ffrom the *rating_count_to* column.\n",
    "\n"
   ]
  },
  {
   "cell_type": "markdown",
   "metadata": {},
   "source": [
    "# App Store Analysis"
   ]
  },
  {
   "cell_type": "code",
   "execution_count": 20,
   "metadata": {
    "collapsed": false
   },
   "outputs": [
    {
     "name": "stdout",
     "output_type": "stream",
     "text": [
      "Music : 57326.530303030304\n",
      "Lifestyle : 16485.764705882353\n",
      "Medical : 612.0\n",
      "Utilities : 18684.456790123455\n",
      "Business : 7491.117647058823\n",
      "Book : 39758.5\n",
      "Travel : 28243.8\n",
      "Shopping : 26919.690476190477\n",
      "Social Networking : 71548.34905660378\n",
      "Games : 22788.6696905016\n",
      "Navigation : 86090.33333333333\n",
      "Health & Fitness : 23298.015384615384\n",
      "Photo & Video : 28441.54375\n",
      "Education : 7003.983050847458\n",
      "Finance : 31467.944444444445\n",
      "Catalogs : 4004.0\n",
      "Weather : 52279.892857142855\n",
      "News : 21248.023255813954\n",
      "Productivity : 21028.410714285714\n",
      "Food & Drink : 33333.92307692308\n",
      "Entertainment : 14029.830708661417\n",
      "Sports : 23008.898550724636\n",
      "Reference : 74942.11111111111\n",
      "\n",
      "\n",
      "Sorted list by average popularity per app\n",
      "\n",
      "\n",
      "('Medical', 612.0)\n",
      "('Catalogs', 4004.0)\n",
      "('Education', 7003.983050847458)\n",
      "('Business', 7491.117647058823)\n",
      "('Entertainment', 14029.830708661417)\n",
      "('Lifestyle', 16485.764705882353)\n",
      "('Utilities', 18684.456790123455)\n",
      "('Productivity', 21028.410714285714)\n",
      "('News', 21248.023255813954)\n",
      "('Games', 22788.6696905016)\n",
      "('Sports', 23008.898550724636)\n",
      "('Health & Fitness', 23298.015384615384)\n",
      "('Shopping', 26919.690476190477)\n",
      "('Travel', 28243.8)\n",
      "('Photo & Video', 28441.54375)\n",
      "('Finance', 31467.944444444445)\n",
      "('Food & Drink', 33333.92307692308)\n",
      "('Book', 39758.5)\n",
      "('Weather', 52279.892857142855)\n",
      "('Music', 57326.530303030304)\n",
      "('Social Networking', 71548.34905660378)\n",
      "('Reference', 74942.11111111111)\n",
      "('Navigation', 86090.33333333333)\n"
     ]
    }
   ],
   "source": [
    "genres_ios = freq_table(apple_free, -5)\n",
    "\n",
    "pop_list = []\n",
    "\n",
    "for genre in genres_ios:\n",
    "    total = 0 \n",
    "    len_genre = 0\n",
    "    for app in apple_free:\n",
    "        genre_app = app[-5]\n",
    "        if genre_app == genre:\n",
    "            n_ratings = float(app[5])\n",
    "            total += n_ratings\n",
    "            len_genre += 1\n",
    "    avg_n_ratings =  total / len_genre\n",
    "    print(genre, ':', avg_n_ratings)\n",
    "    pop_list.append((genre, avg_n_ratings))\n",
    "\n",
    "print('\\n')\n",
    "print('Sorted list by average popularity per app')\n",
    "print('\\n')\n",
    "\n",
    "a =  sorted(pop_list, key = lambda x: int(x[1]))\n",
    "\n",
    "print(*a, sep = \"\\n\")\n"
   ]
  },
  {
   "cell_type": "markdown",
   "metadata": {},
   "source": [
    "The 5 most downloaded apps per genre in the App Store are as follows:\n",
    "\n",
    "1. Navigation (86090 downloads per app)\n",
    "2. Reference (74942 downloads per app)\n",
    "3. Social Networking (71548 downloads per app)\n",
    "4. Weather (57326 downloads per app)\n",
    "5. Music (52279 downloads per app)\n",
    "\n",
    "This can give as an indication of what types of apps are popular on the app store. That being said - the averages do not tell us anything about any skewness in the data. We can however see, that for example Google Maps in the Navigation category will skew the averages up, as it is by far and large monopoly in the space, and will skew the averages upward. \n",
    "\n",
    "We can draw similar conjecture for Social Networking or Music, where people would tend to use a small number of popular platforms such as Facebook or Spotify. \n",
    "\n",
    "The reference Category seems like a popular category, however with not one dominant player. Reference aps inlcude: Bible and Other Religious book references, Game Guides, Translators - often quick access knowledge sources that can be obtained offline.  This category seems to be less concentrated around big players in the market and more scattered , leaving more space for an app to entere the competetive space. \n",
    "\n",
    "\n",
    "\n"
   ]
  },
  {
   "cell_type": "markdown",
   "metadata": {
    "collapsed": true
   },
   "source": [
    "# Play Store Category Analysis\n",
    "\n",
    "In this section we will perform the download popularity analysis based on the Play store, This time we have downlaod figures quoted in the dataset, so we can use those directly. Let's first have a look at the downloads data:\n"
   ]
  },
  {
   "cell_type": "code",
   "execution_count": 22,
   "metadata": {
    "collapsed": false
   },
   "outputs": [
    {
     "name": "stdout",
     "output_type": "stream",
     "text": [
      "1,000,000+ : 15.726534296028879\n",
      "100,000+ : 11.552346570397113\n",
      "10,000,000+ : 10.548285198555957\n",
      "10,000+ : 10.198555956678701\n",
      "1,000+ : 8.393501805054152\n",
      "100+ : 6.915613718411552\n",
      "5,000,000+ : 6.825361010830325\n",
      "500,000+ : 5.561823104693141\n",
      "50,000+ : 4.7721119133574\n",
      "5,000+ : 4.512635379061372\n",
      "10+ : 3.5424187725631766\n",
      "500+ : 3.2490974729241873\n",
      "50,000,000+ : 2.3014440433213\n",
      "100,000,000+ : 2.1322202166064983\n",
      "50+ : 1.917870036101083\n",
      "5+ : 0.78971119133574\n",
      "1+ : 0.5076714801444043\n",
      "500,000,000+ : 0.2707581227436823\n",
      "1,000,000,000+ : 0.22563176895306858\n",
      "0+ : 0.04512635379061372\n",
      "0 : 0.01128158844765343\n"
     ]
    }
   ],
   "source": [
    "display_table(android_free, 5)"
   ]
  },
  {
   "cell_type": "markdown",
   "metadata": {},
   "source": [
    "As we can se above, the install collumn does not actually quote an individual download number, however it gives us an open ended range of values of downloads for an app (e.g an app has been download 5000+ or 1,000,000+ times).\n",
    "\n",
    "Because of this we willl have to reduce our measurement precision, but Given the sample size, this data should be sufficient to iunderstnad whic apps are the most popular. \n",
    "\n",
    "Since the popularity ranking for our intents an purposes can be treated as an ordinal metric, we will convert the ranges for  e.g 100,000+ into 100,000.\n",
    "\n",
    "So we will treat 100,000+ installs as 100,000; 500+ installs as 500, etc. \n",
    "\n",
    "First doing a freq table:\n"
   ]
  },
  {
   "cell_type": "code",
   "execution_count": 24,
   "metadata": {
    "collapsed": false
   },
   "outputs": [
    {
     "data": {
      "text/plain": [
       "{'ART_AND_DESIGN': 0.6430505415162455,\n",
       " 'AUTO_AND_VEHICLES': 0.9250902527075812,\n",
       " 'BEAUTY': 0.5979241877256317,\n",
       " 'BOOKS_AND_REFERENCE': 2.1435018050541514,\n",
       " 'BUSINESS': 4.591606498194946,\n",
       " 'COMICS': 0.6204873646209386,\n",
       " 'COMMUNICATION': 3.2378158844765346,\n",
       " 'DATING': 1.861462093862816,\n",
       " 'EDUCATION': 1.1620036101083033,\n",
       " 'ENTERTAINMENT': 0.9589350180505415,\n",
       " 'EVENTS': 0.7107400722021661,\n",
       " 'FAMILY': 18.907942238267147,\n",
       " 'FINANCE': 3.7003610108303246,\n",
       " 'FOOD_AND_DRINK': 1.2409747292418771,\n",
       " 'GAME': 9.724729241877256,\n",
       " 'HEALTH_AND_FITNESS': 3.0798736462093865,\n",
       " 'HOUSE_AND_HOME': 0.8235559566787004,\n",
       " 'LIBRARIES_AND_DEMO': 0.9363718411552346,\n",
       " 'LIFESTYLE': 3.9034296028880866,\n",
       " 'MAPS_AND_NAVIGATION': 1.3989169675090252,\n",
       " 'MEDICAL': 3.531137184115524,\n",
       " 'NEWS_AND_MAGAZINES': 2.7978339350180503,\n",
       " 'PARENTING': 0.6543321299638989,\n",
       " 'PERSONALIZATION': 3.3167870036101084,\n",
       " 'PHOTOGRAPHY': 2.944494584837545,\n",
       " 'PRODUCTIVITY': 3.892148014440433,\n",
       " 'SHOPPING': 2.2450361010830324,\n",
       " 'SOCIAL': 2.6624548736462095,\n",
       " 'SPORTS': 3.395758122743682,\n",
       " 'TOOLS': 8.461191335740072,\n",
       " 'TRAVEL_AND_LOCAL': 2.33528880866426,\n",
       " 'VIDEO_PLAYERS': 1.7937725631768955,\n",
       " 'WEATHER': 0.8009927797833934}"
      ]
     },
     "execution_count": 24,
     "metadata": {},
     "output_type": "execute_result"
    }
   ],
   "source": [
    "freq_table(android_free, 1)"
   ]
  },
  {
   "cell_type": "code",
   "execution_count": 30,
   "metadata": {
    "collapsed": false
   },
   "outputs": [
    {
     "name": "stdout",
     "output_type": "stream",
     "text": [
      "SHOPPING : 7036877.311557789\n",
      "HEALTH_AND_FITNESS : 4188821.9853479853\n",
      "PERSONALIZATION : 5201482.6122448975\n",
      "FOOD_AND_DRINK : 1924897.7363636363\n",
      "HOUSE_AND_HOME : 1331540.5616438356\n",
      "DATING : 854028.8303030303\n",
      "COMMUNICATION : 38456119.167247385\n",
      "COMICS : 817657.2727272727\n",
      "TRAVEL_AND_LOCAL : 13984077.710144928\n",
      "PHOTOGRAPHY : 17840110.40229885\n",
      "TOOLS : 10801391.298666667\n",
      "VIDEO_PLAYERS : 24727872.452830188\n",
      "AUTO_AND_VEHICLES : 647317.8170731707\n",
      "BEAUTY : 513151.88679245283\n",
      "ENTERTAINMENT : 11640705.88235294\n",
      "SOCIAL : 23253652.127118643\n",
      "FINANCE : 1387692.475609756\n",
      "SPORTS : 3638640.1428571427\n",
      "BOOKS_AND_REFERENCE : 8767811.894736841\n",
      "BUSINESS : 1712290.1474201474\n",
      "LIBRARIES_AND_DEMO : 638503.734939759\n",
      "NEWS_AND_MAGAZINES : 9549178.467741935\n",
      "ART_AND_DESIGN : 1986335.0877192982\n",
      "LIFESTYLE : 1437816.2687861272\n",
      "PRODUCTIVITY : 16787331.344927534\n",
      "MAPS_AND_NAVIGATION : 4056941.7741935486\n",
      "FAMILY : 3695641.8198090694\n",
      "WEATHER : 5074486.197183099\n",
      "GAME : 15588015.603248259\n",
      "MEDICAL : 120550.61980830671\n",
      "PARENTING : 542603.6206896552\n",
      "EVENTS : 253542.22222222222\n",
      "EDUCATION : 1833495.145631068\n",
      "\n",
      "\n",
      "Sorted list by average popularity per app\n",
      "\n",
      "\n",
      "('MEDICAL', 120550.61980830671)\n",
      "('EVENTS', 253542.22222222222)\n",
      "('BEAUTY', 513151.88679245283)\n",
      "('PARENTING', 542603.6206896552)\n",
      "('LIBRARIES_AND_DEMO', 638503.734939759)\n",
      "('AUTO_AND_VEHICLES', 647317.8170731707)\n",
      "('COMICS', 817657.2727272727)\n",
      "('DATING', 854028.8303030303)\n",
      "('HOUSE_AND_HOME', 1331540.5616438356)\n",
      "('FINANCE', 1387692.475609756)\n",
      "('LIFESTYLE', 1437816.2687861272)\n",
      "('BUSINESS', 1712290.1474201474)\n",
      "('EDUCATION', 1833495.145631068)\n",
      "('FOOD_AND_DRINK', 1924897.7363636363)\n",
      "('ART_AND_DESIGN', 1986335.0877192982)\n",
      "('SPORTS', 3638640.1428571427)\n",
      "('FAMILY', 3695641.8198090694)\n",
      "('MAPS_AND_NAVIGATION', 4056941.7741935486)\n",
      "('HEALTH_AND_FITNESS', 4188821.9853479853)\n",
      "('WEATHER', 5074486.197183099)\n",
      "('PERSONALIZATION', 5201482.6122448975)\n",
      "('SHOPPING', 7036877.311557789)\n",
      "('BOOKS_AND_REFERENCE', 8767811.894736841)\n",
      "('NEWS_AND_MAGAZINES', 9549178.467741935)\n",
      "('TOOLS', 10801391.298666667)\n",
      "('ENTERTAINMENT', 11640705.88235294)\n",
      "('TRAVEL_AND_LOCAL', 13984077.710144928)\n",
      "('GAME', 15588015.603248259)\n",
      "('PRODUCTIVITY', 16787331.344927534)\n",
      "('PHOTOGRAPHY', 17840110.40229885)\n",
      "('SOCIAL', 23253652.127118643)\n",
      "('VIDEO_PLAYERS', 24727872.452830188)\n",
      "('COMMUNICATION', 38456119.167247385)\n"
     ]
    }
   ],
   "source": [
    "categories_android = freq_table(android_free, 1)\n",
    "\n",
    "pop_list = []\n",
    "\n",
    "for category in categories_android:\n",
    "    total = 0 \n",
    "    len_category = 0\n",
    "    for app in android_free:\n",
    "        category_app = app[1]\n",
    "        if category_app == category:\n",
    "            untreated_rating = app[5]\n",
    "            untreated_rating = untreated_rating.replace('+','')\n",
    "            untreated_rating = untreated_rating.replace(',','')\n",
    "            n_ratings = float(untreated_rating)\n",
    "            total += n_ratings\n",
    "            len_category += 1\n",
    "    avg_n_ratings =  total / len_category\n",
    "    print(category, ':', avg_n_ratings)\n",
    "    pop_list.append((category, avg_n_ratings))\n",
    "\n",
    "print('\\n')\n",
    "print('Sorted list by average popularity per app')\n",
    "print('\\n')\n",
    "\n",
    "a =  sorted(pop_list, key = lambda x: int(x[1]))\n",
    "\n",
    "print(*a, sep = \"\\n\")\n"
   ]
  },
  {
   "cell_type": "markdown",
   "metadata": {},
   "source": [
    "# Popular  of Android Apps Categories \n",
    "Looking at the category column, we can see that the 5 most popular genre of apps (in terms of download per app in the genre) are:\n",
    "\n",
    "1. Communiciation (38,456,119)\n",
    "2. Video Players (24, 727, 872)\n",
    "3. Social (23, 253, 652)\n",
    "4. Photography (17, 840, 110)\n",
    "5. Productivity ( 16, 787 , 331) \n",
    "\n",
    "Let's investigate the communication category:\n"
   ]
  },
  {
   "cell_type": "code",
   "execution_count": 32,
   "metadata": {
    "collapsed": false
   },
   "outputs": [
    {
     "name": "stdout",
     "output_type": "stream",
     "text": [
      "WhatsApp Messenger : 1,000,000,000+\n",
      "imo beta free calls and text : 100,000,000+\n",
      "Android Messages : 100,000,000+\n",
      "Google Duo - High Quality Video Calls : 500,000,000+\n",
      "Messenger – Text and Video Chat for Free : 1,000,000,000+\n",
      "imo free video calls and chat : 500,000,000+\n",
      "Skype - free IM & video calls : 1,000,000,000+\n",
      "Who : 100,000,000+\n",
      "GO SMS Pro - Messenger, Free Themes, Emoji : 100,000,000+\n",
      "LINE: Free Calls & Messages : 500,000,000+\n",
      "Google Chrome: Fast & Secure : 1,000,000,000+\n",
      "Firefox Browser fast & private : 100,000,000+\n",
      "UC Browser - Fast Download Private & Secure : 500,000,000+\n",
      "Gmail : 1,000,000,000+\n",
      "Hangouts : 1,000,000,000+\n",
      "Messenger Lite: Free Calls & Messages : 100,000,000+\n",
      "Kik : 100,000,000+\n",
      "KakaoTalk: Free Calls & Text : 100,000,000+\n",
      "Opera Mini - fast web browser : 100,000,000+\n",
      "Opera Browser: Fast and Secure : 100,000,000+\n",
      "Telegram : 100,000,000+\n",
      "Truecaller: Caller ID, SMS spam blocking & Dialer : 100,000,000+\n",
      "UC Browser Mini -Tiny Fast Private & Secure : 100,000,000+\n",
      "Viber Messenger : 500,000,000+\n",
      "WeChat : 100,000,000+\n",
      "Yahoo Mail – Stay Organized : 100,000,000+\n",
      "BBM - Free Calls & Messages : 100,000,000+\n"
     ]
    }
   ],
   "source": [
    "for app in android_free:\n",
    "    if app[1] == 'COMMUNICATION' and (app[5] == '1,000,000,000+'\n",
    "                                      or app[5] == '500,000,000+'\n",
    "                                      or app[5] == '100,000,000+'):\n",
    "        print(app[0], ':', app[5])"
   ]
  },
  {
   "cell_type": "markdown",
   "metadata": {},
   "source": [
    "By looking at the data we can see that this space is dominated by a large number of big players : such as WeChat for the chinese market communiation messegner app, and Gmail for the popular choice Email Android client. \n",
    "\n",
    "Howevere Let's have a look at the books and reference category, as we have identified the App Store Reference setion as being one of the potential market in which we could enter first. It does not seem as popular a category on the Play store, but it is still in the top 10 popular categories overall in the store, and might be less monopolized than others. Let's first explore this category:\n",
    "\n"
   ]
  },
  {
   "cell_type": "code",
   "execution_count": 34,
   "metadata": {
    "collapsed": false
   },
   "outputs": [
    {
     "name": "stdout",
     "output_type": "stream",
     "text": [
      "Google Play Books : 1,000,000,000+\n",
      "Bible : 100,000,000+\n",
      "Amazon Kindle : 100,000,000+\n",
      "Wattpad 📖 Free Books : 100,000,000+\n",
      "Audiobooks from Audible : 100,000,000+\n"
     ]
    }
   ],
   "source": [
    "for app in android_free:\n",
    "    if app[1] == 'BOOKS_AND_REFERENCE' and (app[5] == '1,000,000,000+'\n",
    "                                      or app[5] == '500,000,000+'\n",
    "                                      or app[5] == '100,000,000+'):\n",
    "        print(app[0], ':', app[5])"
   ]
  },
  {
   "cell_type": "markdown",
   "metadata": {},
   "source": [
    "We Can see that there is still a number of very large competititors in the space, but we can explore further:\n",
    "\n"
   ]
  },
  {
   "cell_type": "code",
   "execution_count": 36,
   "metadata": {
    "collapsed": false
   },
   "outputs": [
    {
     "name": "stdout",
     "output_type": "stream",
     "text": [
      "Wikipedia : 10,000,000+\n",
      "Cool Reader : 10,000,000+\n",
      "Book store : 1,000,000+\n",
      "FBReader: Favorite Book Reader : 10,000,000+\n",
      "Free Books - Spirit Fanfiction and Stories : 1,000,000+\n",
      "AlReader -any text book reader : 5,000,000+\n",
      "FamilySearch Tree : 1,000,000+\n",
      "Cloud of Books : 1,000,000+\n",
      "ReadEra – free ebook reader : 1,000,000+\n",
      "Ebook Reader : 5,000,000+\n",
      "Read books online : 5,000,000+\n",
      "eBoox: book reader fb2 epub zip : 1,000,000+\n",
      "All Maths Formulas : 1,000,000+\n",
      "Ancestry : 5,000,000+\n",
      "HTC Help : 10,000,000+\n",
      "Moon+ Reader : 10,000,000+\n",
      "English-Myanmar Dictionary : 1,000,000+\n",
      "Golden Dictionary (EN-AR) : 1,000,000+\n",
      "All Language Translator Free : 1,000,000+\n",
      "Aldiko Book Reader : 10,000,000+\n",
      "Dictionary - WordWeb : 5,000,000+\n",
      "50000 Free eBooks & Free AudioBooks : 5,000,000+\n",
      "Al-Quran (Free) : 10,000,000+\n",
      "Al Quran Indonesia : 10,000,000+\n",
      "Al'Quran Bahasa Indonesia : 10,000,000+\n",
      "Al Quran Al karim : 1,000,000+\n",
      "Al Quran : EAlim - Translations & MP3 Offline : 5,000,000+\n",
      "Koran Read &MP3 30 Juz Offline : 1,000,000+\n",
      "Hafizi Quran 15 lines per page : 1,000,000+\n",
      "Quran for Android : 10,000,000+\n",
      "Satellite AR : 1,000,000+\n",
      "Oxford A-Z of English Usage : 1,000,000+\n",
      "Dictionary.com: Find Definitions for English Words : 10,000,000+\n",
      "English Dictionary - Offline : 10,000,000+\n",
      "Bible KJV : 5,000,000+\n",
      "NOOK: Read eBooks & Magazines : 10,000,000+\n",
      "Brilliant Quotes: Life, Love, Family & Motivation : 1,000,000+\n",
      "Stats Royale for Clash Royale : 1,000,000+\n",
      "Dictionary : 10,000,000+\n",
      "wikiHow: how to do anything : 1,000,000+\n",
      "EGW Writings : 1,000,000+\n",
      "My Little Pony AR Guide : 1,000,000+\n",
      "Spanish English Translator : 10,000,000+\n",
      "Dictionary - Merriam-Webster : 10,000,000+\n",
      "JW Library : 10,000,000+\n",
      "Oxford Dictionary of English : Free : 10,000,000+\n",
      "English Hindi Dictionary : 10,000,000+\n",
      "English to Hindi Dictionary : 5,000,000+\n"
     ]
    }
   ],
   "source": [
    "\n",
    "for app in android_free:\n",
    "    if app[1] == 'BOOKS_AND_REFERENCE' and (app[5] == '1,000,000+'\n",
    "                                            or app[5] == '5,000,000+'\n",
    "                                            or app[5] == '10,000,000+'\n",
    "                                            or app[5] == '50,000,000+'):\n",
    "        print(app[0], ':', app[5])"
   ]
  },
  {
   "cell_type": "markdown",
   "metadata": {},
   "source": [
    "As much as there are a few dominant space, it seems that there also is a 'long tail' of other applications in the space, i.e there are other apps in the genre with millions of downloads. \n",
    "\n",
    "Particularyl reference books such as A dictionaroy or religious books references, have seperate apps with large popularity. However - we can see that also Game Guides such as 'Stats for Clash Royale' or ' My Little Pony AR Guide' seem to have very large popularity in the stores. "
   ]
  },
  {
   "cell_type": "markdown",
   "metadata": {},
   "source": [
    "# Recommendation And conclusion\n",
    "\n",
    "In this project we have analysed the data in the app stores for iOS and Android devices, looking at the frequencies of apps in the app store, and also taking application download and rating data from the resepctive stores. \n",
    "\n",
    "The objective of this exerceise was to use this data to recommend  a profile for an app that would be 'popular'. The conjecture is that the more popular the app, the more revenue it would generate from ad traffic. \n",
    "\n",
    "We have discovered that the stores have different genres have different popular genres, the App Store being more entertainmnet driven, while the Play Store seems to be more productivity driven . Thew most popular genres in both stores seem to be quite skewed towards large players, Such as Google Maps in the Navigation section on the App Store, or e.g WhatsApp on the Communication section on the Play Store.\n",
    "\n",
    "The Existience of these large players, means that a new-entrant would have a hard time competing to gain market share with a new app, especialy if we watned to make it profitable.\n",
    "\n",
    "As ana alternative, we have disctover thath the reference categroy in the App Store is among the most popular, and one of the top 10 categories in the play store. These applcations are references such as book, religious book, translator and Game Guides. These can be relatively uncostly to develop, as they are mainly knwoledge repositories - provided that the information is easily accessible and easily structured. \n",
    "\n",
    "As an application we would propose to create a Game guide to a popular mobile  game. We can see for example that 'Clash of Clans' or 'My Little Pony' App references are popular guides. Ideally, the guide we would create would be for a game that exists on both the iOS and Android platforms - so porting from one platform to another would make sense, as someone playing the game on one platfrorm is likely to look up the guide from the same platform. \n",
    "\n",
    "Other popular dicionary or book references could be an area which is trickier to enter since those contents - tend to be static, a new entrant to the dictionary space, would prensent similar knolwedge to the other dictionaries, with other large players already in place. However , new and popular mobile games, and PC games keep changing in the market, so there is a larger window of opporunnnity to create such an application and become a large player, whilst there are not many players in the marketplace aat the time of publishing. \n",
    "\n",
    "There are a number of games coming up in 2020 which could potentialy require reference (commonly these are Competetitve Online games or MMORPGS), such as CyberPunk 2077, Final Fantasy VII Remaster. Games with a lot of content and high popularity are the targers of these references. Building a presence on the App Store prior to release of these games, can redirect users to the early launched application prioor to the realese, for  people to use as a reference. \n",
    "\n",
    "Pre-game release content can include readily available information online, and often Wikia content is open source and available to use, provided that sources to the original are cited, making creating the information relatively simple, especially as this is often suer generated content. \n",
    "\n",
    "In terms of monetization we would be looking to implement partnerships to lo link to game marketplaces, and potentially sales parterships with the target games"
   ]
  }
 ],
 "metadata": {
  "kernelspec": {
   "display_name": "Python 3",
   "language": "python",
   "name": "python3"
  },
  "language_info": {
   "codemirror_mode": {
    "name": "ipython",
    "version": 3
   },
   "file_extension": ".py",
   "mimetype": "text/x-python",
   "name": "python",
   "nbconvert_exporter": "python",
   "pygments_lexer": "ipython3",
   "version": "3.4.3"
  }
 },
 "nbformat": 4,
 "nbformat_minor": 2
}
